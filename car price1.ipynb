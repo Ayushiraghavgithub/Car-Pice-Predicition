{
 "cells": [
  {
   "cell_type": "code",
   "execution_count": 49,
   "id": "d6caafc0-710c-4188-af06-0270bfad6b7d",
   "metadata": {},
   "outputs": [],
   "source": [
    "import pandas as pd  # make data frame ARE IN STRUCTURED TABULAR FORM #EASIER TO ANLAYISE AND DO PROCESSSING ON DATASET #library\n",
    "import matplotlib.pyplot as plt # used for ploting or draw a line or ploting a graph #data visualisation #library\n",
    "import seaborn as sns #vislise random distribuition or library use in #library\n",
    "from sklearn.model_selection import train_test_split #sk learn  IS Library split original data into train data and test data this function is useful sor this # test is used for accuracy of model #train means create the model\n",
    "from sklearn.linear_model import LinearRegression # algorthim or statical method for predict anlaysis relationship between the data-points to draw a straight line through all them.This line can be used to predict future values.\n",
    "from sklearn.linear_model import Lasso # modifies the loss function by adding the penalty (shrinkage quantity) equivalent to the summation of the absolute value of coefficients.\n",
    "from sklearn import metrics #evalute our model by find error score accuracies etc"
   ]
  },
  {
   "cell_type": "code",
   "execution_count": 16,
   "id": "25af2723-d530-4de5-867c-b61b473de4c7",
   "metadata": {},
   "outputs": [],
   "source": [
    "#data collectiopn and processing\n",
    "#loading the data from car file to pandas dataframe\n",
    "car_dataset=pd.read_csv(\"car data.csv\")#pandas has a  function read_csv loading csv file to a data frame"
   ]
  },
  {
   "cell_type": "code",
   "execution_count": 13,
   "id": "1c2c720e-09f3-4e30-9da7-c4fbcb090f21",
   "metadata": {},
   "outputs": [
    {
     "data": {
      "text/html": [
       "<div>\n",
       "<style scoped>\n",
       "    .dataframe tbody tr th:only-of-type {\n",
       "        vertical-align: middle;\n",
       "    }\n",
       "\n",
       "    .dataframe tbody tr th {\n",
       "        vertical-align: top;\n",
       "    }\n",
       "\n",
       "    .dataframe thead th {\n",
       "        text-align: right;\n",
       "    }\n",
       "</style>\n",
       "<table border=\"1\" class=\"dataframe\">\n",
       "  <thead>\n",
       "    <tr style=\"text-align: right;\">\n",
       "      <th></th>\n",
       "      <th>Car_Name</th>\n",
       "      <th>Year</th>\n",
       "      <th>Selling_Price</th>\n",
       "      <th>Present_Price</th>\n",
       "      <th>Driven_kms</th>\n",
       "      <th>Fuel_Type</th>\n",
       "      <th>Selling_type</th>\n",
       "      <th>Transmission</th>\n",
       "      <th>Owner</th>\n",
       "    </tr>\n",
       "  </thead>\n",
       "  <tbody>\n",
       "    <tr>\n",
       "      <th>0</th>\n",
       "      <td>ritz</td>\n",
       "      <td>2014</td>\n",
       "      <td>3.35</td>\n",
       "      <td>5.59</td>\n",
       "      <td>27000</td>\n",
       "      <td>Petrol</td>\n",
       "      <td>Dealer</td>\n",
       "      <td>Manual</td>\n",
       "      <td>0</td>\n",
       "    </tr>\n",
       "    <tr>\n",
       "      <th>1</th>\n",
       "      <td>sx4</td>\n",
       "      <td>2013</td>\n",
       "      <td>4.75</td>\n",
       "      <td>9.54</td>\n",
       "      <td>43000</td>\n",
       "      <td>Diesel</td>\n",
       "      <td>Dealer</td>\n",
       "      <td>Manual</td>\n",
       "      <td>0</td>\n",
       "    </tr>\n",
       "    <tr>\n",
       "      <th>2</th>\n",
       "      <td>ciaz</td>\n",
       "      <td>2017</td>\n",
       "      <td>7.25</td>\n",
       "      <td>9.85</td>\n",
       "      <td>6900</td>\n",
       "      <td>Petrol</td>\n",
       "      <td>Dealer</td>\n",
       "      <td>Manual</td>\n",
       "      <td>0</td>\n",
       "    </tr>\n",
       "    <tr>\n",
       "      <th>3</th>\n",
       "      <td>wagon r</td>\n",
       "      <td>2011</td>\n",
       "      <td>2.85</td>\n",
       "      <td>4.15</td>\n",
       "      <td>5200</td>\n",
       "      <td>Petrol</td>\n",
       "      <td>Dealer</td>\n",
       "      <td>Manual</td>\n",
       "      <td>0</td>\n",
       "    </tr>\n",
       "    <tr>\n",
       "      <th>4</th>\n",
       "      <td>swift</td>\n",
       "      <td>2014</td>\n",
       "      <td>4.60</td>\n",
       "      <td>6.87</td>\n",
       "      <td>42450</td>\n",
       "      <td>Diesel</td>\n",
       "      <td>Dealer</td>\n",
       "      <td>Manual</td>\n",
       "      <td>0</td>\n",
       "    </tr>\n",
       "  </tbody>\n",
       "</table>\n",
       "</div>"
      ],
      "text/plain": [
       "  Car_Name  Year  Selling_Price  Present_Price  Driven_kms Fuel_Type  \\\n",
       "0     ritz  2014           3.35           5.59       27000    Petrol   \n",
       "1      sx4  2013           4.75           9.54       43000    Diesel   \n",
       "2     ciaz  2017           7.25           9.85        6900    Petrol   \n",
       "3  wagon r  2011           2.85           4.15        5200    Petrol   \n",
       "4    swift  2014           4.60           6.87       42450    Diesel   \n",
       "\n",
       "  Selling_type Transmission  Owner  \n",
       "0       Dealer       Manual      0  \n",
       "1       Dealer       Manual      0  \n",
       "2       Dealer       Manual      0  \n",
       "3       Dealer       Manual      0  \n",
       "4       Dealer       Manual      0  "
      ]
     },
     "execution_count": 13,
     "metadata": {},
     "output_type": "execute_result"
    }
   ],
   "source": [
    "car_dataset.head() # head functionprint the first 5 rows of the data #cardataset is the name of data frame"
   ]
  },
  {
   "cell_type": "code",
   "execution_count": 17,
   "id": "3cc5a440-e868-46ed-a497-301facb81ac1",
   "metadata": {},
   "outputs": [
    {
     "data": {
      "text/plain": [
       "(301, 9)"
      ]
     },
     "execution_count": 17,
     "metadata": {},
     "output_type": "execute_result"
    }
   ],
   "source": [
    "# checking the no of row and coloum by function shape\n",
    "car_dataset.shape"
   ]
  },
  {
   "cell_type": "code",
   "execution_count": 18,
   "id": "0fecdd66-ecbd-4551-a20a-4da28439aad1",
   "metadata": {},
   "outputs": [
    {
     "name": "stdout",
     "output_type": "stream",
     "text": [
      "<class 'pandas.core.frame.DataFrame'>\n",
      "RangeIndex: 301 entries, 0 to 300\n",
      "Data columns (total 9 columns):\n",
      " #   Column         Non-Null Count  Dtype  \n",
      "---  ------         --------------  -----  \n",
      " 0   Car_Name       301 non-null    object \n",
      " 1   Year           301 non-null    int64  \n",
      " 2   Selling_Price  301 non-null    float64\n",
      " 3   Present_Price  301 non-null    float64\n",
      " 4   Driven_kms     301 non-null    int64  \n",
      " 5   Fuel_Type      301 non-null    object \n",
      " 6   Selling_type   301 non-null    object \n",
      " 7   Transmission   301 non-null    object \n",
      " 8   Owner          301 non-null    int64  \n",
      "dtypes: float64(2), int64(3), object(4)\n",
      "memory usage: 21.3+ KB\n"
     ]
    }
   ],
   "source": [
    "#getting some information of dataset opr dataframe\n",
    "car_dataset.info() #object means categories of data petrol diesal or cng in datatype "
   ]
  },
  {
   "cell_type": "code",
   "execution_count": 19,
   "id": "c7b9c35d-9aeb-40d2-a045-0d7fca93f0a5",
   "metadata": {},
   "outputs": [
    {
     "data": {
      "text/plain": [
       "Car_Name         0\n",
       "Year             0\n",
       "Selling_Price    0\n",
       "Present_Price    0\n",
       "Driven_kms       0\n",
       "Fuel_Type        0\n",
       "Selling_type     0\n",
       "Transmission     0\n",
       "Owner            0\n",
       "dtype: int64"
      ]
     },
     "execution_count": 19,
     "metadata": {},
     "output_type": "execute_result"
    }
   ],
   "source": [
    "#checking the no of missing values\n",
    "car_dataset.isnull().sum()#how many missingh values of each column"
   ]
  },
  {
   "cell_type": "code",
   "execution_count": 24,
   "id": "892c19ec-5489-4d10-adbd-6e837646ad60",
   "metadata": {},
   "outputs": [
    {
     "name": "stdout",
     "output_type": "stream",
     "text": [
      "Petrol    239\n",
      "Diesel     60\n",
      "CNG         2\n",
      "Name: Fuel_Type, dtype: int64\n",
      "Dealer        195\n",
      "Individual    106\n",
      "Name: Selling_type, dtype: int64\n",
      "Manual       261\n",
      "Automatic     40\n",
      "Name: Transmission, dtype: int64\n"
     ]
    }
   ],
   "source": [
    "#checking the distribution of categorical data \n",
    "print(car_dataset.Fuel_Type.value_counts())#value counts count or no of the for petrol and diesal\n",
    "print(car_dataset.Selling_type.value_counts())\n",
    "print(car_dataset.Transmission.value_counts())"
   ]
  },
  {
   "cell_type": "code",
   "execution_count": 35,
   "id": "2dccd420-c04c-41a2-b9fb-3b0d44b0c2ae",
   "metadata": {},
   "outputs": [],
   "source": [
    "#ml model cannot understand text so that converted into numerical values \n",
    "#encoding the categorical data fuel type coloumn\n",
    "car_dataset.replace({\"Fuel_Type\":{'Petrol':0, 'Diesel':1,'CNG':2}},inplace=True)#for changing the value use inplace parameters\n",
    "#encoding the categorical data fuel type coloumn\n",
    "car_dataset.replace({\"Selling_type\":{'Dealer':0,'Individual':1}},inplace=True)\n",
    "#encoding the categorical data fuel type coloumn\n",
    "car_dataset.replace({\"Transmission\":{'Manual':0,'Automatic':1}},inplace=True)"
   ]
  },
  {
   "cell_type": "code",
   "execution_count": 36,
   "id": "0cc32a52-824f-409d-9797-d52ca912aecc",
   "metadata": {},
   "outputs": [
    {
     "data": {
      "text/html": [
       "<div>\n",
       "<style scoped>\n",
       "    .dataframe tbody tr th:only-of-type {\n",
       "        vertical-align: middle;\n",
       "    }\n",
       "\n",
       "    .dataframe tbody tr th {\n",
       "        vertical-align: top;\n",
       "    }\n",
       "\n",
       "    .dataframe thead th {\n",
       "        text-align: right;\n",
       "    }\n",
       "</style>\n",
       "<table border=\"1\" class=\"dataframe\">\n",
       "  <thead>\n",
       "    <tr style=\"text-align: right;\">\n",
       "      <th></th>\n",
       "      <th>Car_Name</th>\n",
       "      <th>Year</th>\n",
       "      <th>Selling_Price</th>\n",
       "      <th>Present_Price</th>\n",
       "      <th>Driven_kms</th>\n",
       "      <th>Fuel_Type</th>\n",
       "      <th>Selling_type</th>\n",
       "      <th>Transmission</th>\n",
       "      <th>Owner</th>\n",
       "    </tr>\n",
       "  </thead>\n",
       "  <tbody>\n",
       "    <tr>\n",
       "      <th>0</th>\n",
       "      <td>ritz</td>\n",
       "      <td>2014</td>\n",
       "      <td>3.35</td>\n",
       "      <td>5.59</td>\n",
       "      <td>27000</td>\n",
       "      <td>0</td>\n",
       "      <td>0</td>\n",
       "      <td>0</td>\n",
       "      <td>0</td>\n",
       "    </tr>\n",
       "    <tr>\n",
       "      <th>1</th>\n",
       "      <td>sx4</td>\n",
       "      <td>2013</td>\n",
       "      <td>4.75</td>\n",
       "      <td>9.54</td>\n",
       "      <td>43000</td>\n",
       "      <td>1</td>\n",
       "      <td>0</td>\n",
       "      <td>0</td>\n",
       "      <td>0</td>\n",
       "    </tr>\n",
       "    <tr>\n",
       "      <th>2</th>\n",
       "      <td>ciaz</td>\n",
       "      <td>2017</td>\n",
       "      <td>7.25</td>\n",
       "      <td>9.85</td>\n",
       "      <td>6900</td>\n",
       "      <td>0</td>\n",
       "      <td>0</td>\n",
       "      <td>0</td>\n",
       "      <td>0</td>\n",
       "    </tr>\n",
       "    <tr>\n",
       "      <th>3</th>\n",
       "      <td>wagon r</td>\n",
       "      <td>2011</td>\n",
       "      <td>2.85</td>\n",
       "      <td>4.15</td>\n",
       "      <td>5200</td>\n",
       "      <td>0</td>\n",
       "      <td>0</td>\n",
       "      <td>0</td>\n",
       "      <td>0</td>\n",
       "    </tr>\n",
       "    <tr>\n",
       "      <th>4</th>\n",
       "      <td>swift</td>\n",
       "      <td>2014</td>\n",
       "      <td>4.60</td>\n",
       "      <td>6.87</td>\n",
       "      <td>42450</td>\n",
       "      <td>1</td>\n",
       "      <td>0</td>\n",
       "      <td>0</td>\n",
       "      <td>0</td>\n",
       "    </tr>\n",
       "  </tbody>\n",
       "</table>\n",
       "</div>"
      ],
      "text/plain": [
       "  Car_Name  Year  Selling_Price  Present_Price  Driven_kms  Fuel_Type  \\\n",
       "0     ritz  2014           3.35           5.59       27000          0   \n",
       "1      sx4  2013           4.75           9.54       43000          1   \n",
       "2     ciaz  2017           7.25           9.85        6900          0   \n",
       "3  wagon r  2011           2.85           4.15        5200          0   \n",
       "4    swift  2014           4.60           6.87       42450          1   \n",
       "\n",
       "   Selling_type  Transmission  Owner  \n",
       "0             0             0      0  \n",
       "1             0             0      0  \n",
       "2             0             0      0  \n",
       "3             0             0      0  \n",
       "4             0             0      0  "
      ]
     },
     "execution_count": 36,
     "metadata": {},
     "output_type": "execute_result"
    }
   ],
   "source": [
    "car_dataset.head()"
   ]
  },
  {
   "cell_type": "code",
   "execution_count": 41,
   "id": "339898b7-da7d-44d7-9763-ac7f3730f0c3",
   "metadata": {},
   "outputs": [],
   "source": [
    "#spliting the data and target data\n",
    "#selling price target and othr features becomes the data\n",
    "#remove selling price and store it into y all the remaing features were come in X variable REMOVE CAR NAME BECAUSE IT CANNOT BE USED IN THE PREDICTION\n",
    "X=car_dataset.drop(['Car_Name','Selling_Price'],axis=1) #droping a coloumn axis 1 dropping a row axis 0\n",
    "Y=car_dataset['Selling_Price']"
   ]
  },
  {
   "cell_type": "code",
   "execution_count": 39,
   "id": "c8f1eb1b-7ea7-40cd-8d1e-57cfbd9dd238",
   "metadata": {},
   "outputs": [
    {
     "name": "stdout",
     "output_type": "stream",
     "text": [
      "     Year  Present_Price  Driven_kms  Fuel_Type  Selling_type  Transmission  \\\n",
      "0    2014           5.59       27000          0             0             0   \n",
      "1    2013           9.54       43000          1             0             0   \n",
      "2    2017           9.85        6900          0             0             0   \n",
      "3    2011           4.15        5200          0             0             0   \n",
      "4    2014           6.87       42450          1             0             0   \n",
      "..    ...            ...         ...        ...           ...           ...   \n",
      "296  2016          11.60       33988          1             0             0   \n",
      "297  2015           5.90       60000          0             0             0   \n",
      "298  2009          11.00       87934          0             0             0   \n",
      "299  2017          12.50        9000          1             0             0   \n",
      "300  2016           5.90        5464          0             0             0   \n",
      "\n",
      "     Owner  \n",
      "0        0  \n",
      "1        0  \n",
      "2        0  \n",
      "3        0  \n",
      "4        0  \n",
      "..     ...  \n",
      "296      0  \n",
      "297      0  \n",
      "298      0  \n",
      "299      0  \n",
      "300      0  \n",
      "\n",
      "[301 rows x 7 columns]\n"
     ]
    }
   ],
   "source": [
    "print(X)\n"
   ]
  },
  {
   "cell_type": "code",
   "execution_count": 43,
   "id": "9bc91f3e-2845-4a98-928f-813650b20f88",
   "metadata": {},
   "outputs": [
    {
     "name": "stdout",
     "output_type": "stream",
     "text": [
      "0       3.35\n",
      "1       4.75\n",
      "2       7.25\n",
      "3       2.85\n",
      "4       4.60\n",
      "       ...  \n",
      "296     9.50\n",
      "297     4.00\n",
      "298     3.35\n",
      "299    11.50\n",
      "300     5.30\n",
      "Name: Selling_Price, Length: 301, dtype: float64\n"
     ]
    }
   ],
   "source": [
    "print(Y) #3.35 means 3 lakh 35000 indian rupees# target variable orprice of the car which we want to analyse"
   ]
  },
  {
   "cell_type": "code",
   "execution_count": 45,
   "id": "14dbdb75-4fa1-482b-b994-62aaf01821fb",
   "metadata": {},
   "outputs": [],
   "source": [
    "#spliting traing and test data #seperate data into training data and test data #traing data in the variable x train test data in the variable x test # thenprice of  all the values in th x train will be stored in y train #all the price value of x test  will be stored in the y test\n",
    "X_train,X_test,Y_train,Y_test = train_test_split(X,Y ,test_size= 0.1, random_state=2)#10 %testdata 90% training data# dataset large prediction will be better"
   ]
  },
  {
   "cell_type": "code",
   "execution_count": 77,
   "id": "ef8627df-4137-4495-8c98-ff1a6a0ad980",
   "metadata": {},
   "outputs": [
    {
     "data": {
      "text/html": [
       "<div>\n",
       "<style scoped>\n",
       "    .dataframe tbody tr th:only-of-type {\n",
       "        vertical-align: middle;\n",
       "    }\n",
       "\n",
       "    .dataframe tbody tr th {\n",
       "        vertical-align: top;\n",
       "    }\n",
       "\n",
       "    .dataframe thead th {\n",
       "        text-align: right;\n",
       "    }\n",
       "</style>\n",
       "<table border=\"1\" class=\"dataframe\">\n",
       "  <thead>\n",
       "    <tr style=\"text-align: right;\">\n",
       "      <th></th>\n",
       "      <th>Year</th>\n",
       "      <th>Present_Price</th>\n",
       "      <th>Driven_kms</th>\n",
       "      <th>Fuel_Type</th>\n",
       "      <th>Selling_type</th>\n",
       "      <th>Transmission</th>\n",
       "      <th>Owner</th>\n",
       "    </tr>\n",
       "  </thead>\n",
       "  <tbody>\n",
       "    <tr>\n",
       "      <th>204</th>\n",
       "      <td>2015</td>\n",
       "      <td>4.430</td>\n",
       "      <td>28282</td>\n",
       "      <td>0</td>\n",
       "      <td>0</td>\n",
       "      <td>0</td>\n",
       "      <td>0</td>\n",
       "    </tr>\n",
       "    <tr>\n",
       "      <th>249</th>\n",
       "      <td>2016</td>\n",
       "      <td>7.600</td>\n",
       "      <td>17000</td>\n",
       "      <td>0</td>\n",
       "      <td>0</td>\n",
       "      <td>0</td>\n",
       "      <td>0</td>\n",
       "    </tr>\n",
       "    <tr>\n",
       "      <th>277</th>\n",
       "      <td>2015</td>\n",
       "      <td>13.600</td>\n",
       "      <td>21780</td>\n",
       "      <td>0</td>\n",
       "      <td>0</td>\n",
       "      <td>0</td>\n",
       "      <td>0</td>\n",
       "    </tr>\n",
       "    <tr>\n",
       "      <th>194</th>\n",
       "      <td>2008</td>\n",
       "      <td>0.787</td>\n",
       "      <td>50000</td>\n",
       "      <td>0</td>\n",
       "      <td>1</td>\n",
       "      <td>0</td>\n",
       "      <td>0</td>\n",
       "    </tr>\n",
       "    <tr>\n",
       "      <th>244</th>\n",
       "      <td>2013</td>\n",
       "      <td>9.400</td>\n",
       "      <td>49000</td>\n",
       "      <td>1</td>\n",
       "      <td>0</td>\n",
       "      <td>0</td>\n",
       "      <td>0</td>\n",
       "    </tr>\n",
       "    <tr>\n",
       "      <th>...</th>\n",
       "      <td>...</td>\n",
       "      <td>...</td>\n",
       "      <td>...</td>\n",
       "      <td>...</td>\n",
       "      <td>...</td>\n",
       "      <td>...</td>\n",
       "      <td>...</td>\n",
       "    </tr>\n",
       "    <tr>\n",
       "      <th>75</th>\n",
       "      <td>2015</td>\n",
       "      <td>6.800</td>\n",
       "      <td>36000</td>\n",
       "      <td>0</td>\n",
       "      <td>0</td>\n",
       "      <td>0</td>\n",
       "      <td>0</td>\n",
       "    </tr>\n",
       "    <tr>\n",
       "      <th>22</th>\n",
       "      <td>2011</td>\n",
       "      <td>8.010</td>\n",
       "      <td>50000</td>\n",
       "      <td>0</td>\n",
       "      <td>0</td>\n",
       "      <td>1</td>\n",
       "      <td>0</td>\n",
       "    </tr>\n",
       "    <tr>\n",
       "      <th>72</th>\n",
       "      <td>2013</td>\n",
       "      <td>18.610</td>\n",
       "      <td>56001</td>\n",
       "      <td>0</td>\n",
       "      <td>0</td>\n",
       "      <td>0</td>\n",
       "      <td>0</td>\n",
       "    </tr>\n",
       "    <tr>\n",
       "      <th>15</th>\n",
       "      <td>2016</td>\n",
       "      <td>10.790</td>\n",
       "      <td>43000</td>\n",
       "      <td>1</td>\n",
       "      <td>0</td>\n",
       "      <td>0</td>\n",
       "      <td>0</td>\n",
       "    </tr>\n",
       "    <tr>\n",
       "      <th>168</th>\n",
       "      <td>2013</td>\n",
       "      <td>0.730</td>\n",
       "      <td>12000</td>\n",
       "      <td>0</td>\n",
       "      <td>1</td>\n",
       "      <td>0</td>\n",
       "      <td>0</td>\n",
       "    </tr>\n",
       "  </tbody>\n",
       "</table>\n",
       "<p>270 rows × 7 columns</p>\n",
       "</div>"
      ],
      "text/plain": [
       "     Year  Present_Price  Driven_kms  Fuel_Type  Selling_type  Transmission  \\\n",
       "204  2015          4.430       28282          0             0             0   \n",
       "249  2016          7.600       17000          0             0             0   \n",
       "277  2015         13.600       21780          0             0             0   \n",
       "194  2008          0.787       50000          0             1             0   \n",
       "244  2013          9.400       49000          1             0             0   \n",
       "..    ...            ...         ...        ...           ...           ...   \n",
       "75   2015          6.800       36000          0             0             0   \n",
       "22   2011          8.010       50000          0             0             1   \n",
       "72   2013         18.610       56001          0             0             0   \n",
       "15   2016         10.790       43000          1             0             0   \n",
       "168  2013          0.730       12000          0             1             0   \n",
       "\n",
       "     Owner  \n",
       "204      0  \n",
       "249      0  \n",
       "277      0  \n",
       "194      0  \n",
       "244      0  \n",
       "..     ...  \n",
       "75       0  \n",
       "22       0  \n",
       "72       0  \n",
       "15       0  \n",
       "168      0  \n",
       "\n",
       "[270 rows x 7 columns]"
      ]
     },
     "execution_count": 77,
     "metadata": {},
     "output_type": "execute_result"
    }
   ],
   "source": [
    "X_train"
   ]
  },
  {
   "cell_type": "code",
   "execution_count": 78,
   "id": "c5690917-10b9-43f9-9cea-4bf7b007a3c2",
   "metadata": {},
   "outputs": [
    {
     "data": {
      "text/plain": [
       "204    2.75\n",
       "249    5.25\n",
       "277    9.70\n",
       "194    0.20\n",
       "244    5.95\n",
       "       ... \n",
       "75     3.95\n",
       "22     4.40\n",
       "72     7.45\n",
       "15     7.75\n",
       "168    0.42\n",
       "Name: Selling_Price, Length: 270, dtype: float64"
      ]
     },
     "execution_count": 78,
     "metadata": {},
     "output_type": "execute_result"
    }
   ],
   "source": [
    "Y_train"
   ]
  },
  {
   "cell_type": "code",
   "execution_count": 79,
   "id": "f94bef27-32db-463a-bf0c-d8bf3bcde6f7",
   "metadata": {},
   "outputs": [
    {
     "data": {
      "text/html": [
       "<div>\n",
       "<style scoped>\n",
       "    .dataframe tbody tr th:only-of-type {\n",
       "        vertical-align: middle;\n",
       "    }\n",
       "\n",
       "    .dataframe tbody tr th {\n",
       "        vertical-align: top;\n",
       "    }\n",
       "\n",
       "    .dataframe thead th {\n",
       "        text-align: right;\n",
       "    }\n",
       "</style>\n",
       "<table border=\"1\" class=\"dataframe\">\n",
       "  <thead>\n",
       "    <tr style=\"text-align: right;\">\n",
       "      <th></th>\n",
       "      <th>Year</th>\n",
       "      <th>Present_Price</th>\n",
       "      <th>Driven_kms</th>\n",
       "      <th>Fuel_Type</th>\n",
       "      <th>Selling_type</th>\n",
       "      <th>Transmission</th>\n",
       "      <th>Owner</th>\n",
       "    </tr>\n",
       "  </thead>\n",
       "  <tbody>\n",
       "    <tr>\n",
       "      <th>99</th>\n",
       "      <td>2010</td>\n",
       "      <td>20.450</td>\n",
       "      <td>50024</td>\n",
       "      <td>1</td>\n",
       "      <td>0</td>\n",
       "      <td>0</td>\n",
       "      <td>0</td>\n",
       "    </tr>\n",
       "    <tr>\n",
       "      <th>161</th>\n",
       "      <td>2014</td>\n",
       "      <td>0.826</td>\n",
       "      <td>23000</td>\n",
       "      <td>0</td>\n",
       "      <td>1</td>\n",
       "      <td>0</td>\n",
       "      <td>0</td>\n",
       "    </tr>\n",
       "    <tr>\n",
       "      <th>89</th>\n",
       "      <td>2014</td>\n",
       "      <td>6.760</td>\n",
       "      <td>40000</td>\n",
       "      <td>0</td>\n",
       "      <td>0</td>\n",
       "      <td>0</td>\n",
       "      <td>0</td>\n",
       "    </tr>\n",
       "    <tr>\n",
       "      <th>30</th>\n",
       "      <td>2012</td>\n",
       "      <td>5.980</td>\n",
       "      <td>51439</td>\n",
       "      <td>1</td>\n",
       "      <td>0</td>\n",
       "      <td>0</td>\n",
       "      <td>0</td>\n",
       "    </tr>\n",
       "    <tr>\n",
       "      <th>232</th>\n",
       "      <td>2015</td>\n",
       "      <td>14.790</td>\n",
       "      <td>12900</td>\n",
       "      <td>0</td>\n",
       "      <td>0</td>\n",
       "      <td>1</td>\n",
       "      <td>0</td>\n",
       "    </tr>\n",
       "    <tr>\n",
       "      <th>290</th>\n",
       "      <td>2014</td>\n",
       "      <td>6.400</td>\n",
       "      <td>19000</td>\n",
       "      <td>0</td>\n",
       "      <td>0</td>\n",
       "      <td>0</td>\n",
       "      <td>0</td>\n",
       "    </tr>\n",
       "    <tr>\n",
       "      <th>35</th>\n",
       "      <td>2011</td>\n",
       "      <td>7.740</td>\n",
       "      <td>49998</td>\n",
       "      <td>2</td>\n",
       "      <td>0</td>\n",
       "      <td>0</td>\n",
       "      <td>0</td>\n",
       "    </tr>\n",
       "    <tr>\n",
       "      <th>7</th>\n",
       "      <td>2015</td>\n",
       "      <td>8.610</td>\n",
       "      <td>33429</td>\n",
       "      <td>1</td>\n",
       "      <td>0</td>\n",
       "      <td>0</td>\n",
       "      <td>0</td>\n",
       "    </tr>\n",
       "    <tr>\n",
       "      <th>183</th>\n",
       "      <td>2013</td>\n",
       "      <td>0.470</td>\n",
       "      <td>21000</td>\n",
       "      <td>0</td>\n",
       "      <td>1</td>\n",
       "      <td>0</td>\n",
       "      <td>0</td>\n",
       "    </tr>\n",
       "    <tr>\n",
       "      <th>13</th>\n",
       "      <td>2015</td>\n",
       "      <td>7.710</td>\n",
       "      <td>26000</td>\n",
       "      <td>0</td>\n",
       "      <td>0</td>\n",
       "      <td>0</td>\n",
       "      <td>0</td>\n",
       "    </tr>\n",
       "    <tr>\n",
       "      <th>269</th>\n",
       "      <td>2015</td>\n",
       "      <td>10.000</td>\n",
       "      <td>18828</td>\n",
       "      <td>0</td>\n",
       "      <td>0</td>\n",
       "      <td>0</td>\n",
       "      <td>0</td>\n",
       "    </tr>\n",
       "    <tr>\n",
       "      <th>65</th>\n",
       "      <td>2014</td>\n",
       "      <td>6.950</td>\n",
       "      <td>45000</td>\n",
       "      <td>1</td>\n",
       "      <td>0</td>\n",
       "      <td>0</td>\n",
       "      <td>0</td>\n",
       "    </tr>\n",
       "    <tr>\n",
       "      <th>178</th>\n",
       "      <td>2014</td>\n",
       "      <td>0.520</td>\n",
       "      <td>19000</td>\n",
       "      <td>0</td>\n",
       "      <td>1</td>\n",
       "      <td>1</td>\n",
       "      <td>0</td>\n",
       "    </tr>\n",
       "    <tr>\n",
       "      <th>258</th>\n",
       "      <td>2015</td>\n",
       "      <td>13.600</td>\n",
       "      <td>25000</td>\n",
       "      <td>0</td>\n",
       "      <td>0</td>\n",
       "      <td>0</td>\n",
       "      <td>0</td>\n",
       "    </tr>\n",
       "    <tr>\n",
       "      <th>227</th>\n",
       "      <td>2011</td>\n",
       "      <td>4.430</td>\n",
       "      <td>57000</td>\n",
       "      <td>0</td>\n",
       "      <td>0</td>\n",
       "      <td>0</td>\n",
       "      <td>0</td>\n",
       "    </tr>\n",
       "    <tr>\n",
       "      <th>133</th>\n",
       "      <td>2016</td>\n",
       "      <td>0.950</td>\n",
       "      <td>500</td>\n",
       "      <td>0</td>\n",
       "      <td>1</td>\n",
       "      <td>0</td>\n",
       "      <td>0</td>\n",
       "    </tr>\n",
       "    <tr>\n",
       "      <th>130</th>\n",
       "      <td>2017</td>\n",
       "      <td>0.870</td>\n",
       "      <td>11000</td>\n",
       "      <td>0</td>\n",
       "      <td>1</td>\n",
       "      <td>0</td>\n",
       "      <td>0</td>\n",
       "    </tr>\n",
       "    <tr>\n",
       "      <th>156</th>\n",
       "      <td>2017</td>\n",
       "      <td>0.520</td>\n",
       "      <td>15000</td>\n",
       "      <td>0</td>\n",
       "      <td>1</td>\n",
       "      <td>0</td>\n",
       "      <td>0</td>\n",
       "    </tr>\n",
       "    <tr>\n",
       "      <th>237</th>\n",
       "      <td>2015</td>\n",
       "      <td>13.600</td>\n",
       "      <td>68000</td>\n",
       "      <td>1</td>\n",
       "      <td>0</td>\n",
       "      <td>0</td>\n",
       "      <td>0</td>\n",
       "    </tr>\n",
       "    <tr>\n",
       "      <th>262</th>\n",
       "      <td>2015</td>\n",
       "      <td>5.800</td>\n",
       "      <td>40023</td>\n",
       "      <td>0</td>\n",
       "      <td>0</td>\n",
       "      <td>0</td>\n",
       "      <td>0</td>\n",
       "    </tr>\n",
       "    <tr>\n",
       "      <th>112</th>\n",
       "      <td>2014</td>\n",
       "      <td>2.400</td>\n",
       "      <td>7000</td>\n",
       "      <td>0</td>\n",
       "      <td>1</td>\n",
       "      <td>0</td>\n",
       "      <td>0</td>\n",
       "    </tr>\n",
       "    <tr>\n",
       "      <th>282</th>\n",
       "      <td>2014</td>\n",
       "      <td>14.000</td>\n",
       "      <td>63000</td>\n",
       "      <td>1</td>\n",
       "      <td>0</td>\n",
       "      <td>0</td>\n",
       "      <td>0</td>\n",
       "    </tr>\n",
       "    <tr>\n",
       "      <th>164</th>\n",
       "      <td>2016</td>\n",
       "      <td>0.540</td>\n",
       "      <td>14000</td>\n",
       "      <td>0</td>\n",
       "      <td>1</td>\n",
       "      <td>0</td>\n",
       "      <td>0</td>\n",
       "    </tr>\n",
       "    <tr>\n",
       "      <th>275</th>\n",
       "      <td>2016</td>\n",
       "      <td>13.600</td>\n",
       "      <td>30753</td>\n",
       "      <td>0</td>\n",
       "      <td>0</td>\n",
       "      <td>1</td>\n",
       "      <td>0</td>\n",
       "    </tr>\n",
       "    <tr>\n",
       "      <th>154</th>\n",
       "      <td>2014</td>\n",
       "      <td>0.880</td>\n",
       "      <td>8000</td>\n",
       "      <td>0</td>\n",
       "      <td>1</td>\n",
       "      <td>0</td>\n",
       "      <td>0</td>\n",
       "    </tr>\n",
       "    <tr>\n",
       "      <th>29</th>\n",
       "      <td>2015</td>\n",
       "      <td>10.380</td>\n",
       "      <td>45000</td>\n",
       "      <td>1</td>\n",
       "      <td>0</td>\n",
       "      <td>0</td>\n",
       "      <td>0</td>\n",
       "    </tr>\n",
       "    <tr>\n",
       "      <th>141</th>\n",
       "      <td>2016</td>\n",
       "      <td>0.800</td>\n",
       "      <td>20000</td>\n",
       "      <td>0</td>\n",
       "      <td>1</td>\n",
       "      <td>0</td>\n",
       "      <td>0</td>\n",
       "    </tr>\n",
       "    <tr>\n",
       "      <th>192</th>\n",
       "      <td>2007</td>\n",
       "      <td>0.750</td>\n",
       "      <td>49000</td>\n",
       "      <td>0</td>\n",
       "      <td>1</td>\n",
       "      <td>0</td>\n",
       "      <td>1</td>\n",
       "    </tr>\n",
       "    <tr>\n",
       "      <th>216</th>\n",
       "      <td>2016</td>\n",
       "      <td>4.430</td>\n",
       "      <td>12500</td>\n",
       "      <td>0</td>\n",
       "      <td>0</td>\n",
       "      <td>0</td>\n",
       "      <td>0</td>\n",
       "    </tr>\n",
       "    <tr>\n",
       "      <th>3</th>\n",
       "      <td>2011</td>\n",
       "      <td>4.150</td>\n",
       "      <td>5200</td>\n",
       "      <td>0</td>\n",
       "      <td>0</td>\n",
       "      <td>0</td>\n",
       "      <td>0</td>\n",
       "    </tr>\n",
       "    <tr>\n",
       "      <th>159</th>\n",
       "      <td>2017</td>\n",
       "      <td>0.510</td>\n",
       "      <td>4000</td>\n",
       "      <td>0</td>\n",
       "      <td>1</td>\n",
       "      <td>1</td>\n",
       "      <td>0</td>\n",
       "    </tr>\n",
       "  </tbody>\n",
       "</table>\n",
       "</div>"
      ],
      "text/plain": [
       "     Year  Present_Price  Driven_kms  Fuel_Type  Selling_type  Transmission  \\\n",
       "99   2010         20.450       50024          1             0             0   \n",
       "161  2014          0.826       23000          0             1             0   \n",
       "89   2014          6.760       40000          0             0             0   \n",
       "30   2012          5.980       51439          1             0             0   \n",
       "232  2015         14.790       12900          0             0             1   \n",
       "290  2014          6.400       19000          0             0             0   \n",
       "35   2011          7.740       49998          2             0             0   \n",
       "7    2015          8.610       33429          1             0             0   \n",
       "183  2013          0.470       21000          0             1             0   \n",
       "13   2015          7.710       26000          0             0             0   \n",
       "269  2015         10.000       18828          0             0             0   \n",
       "65   2014          6.950       45000          1             0             0   \n",
       "178  2014          0.520       19000          0             1             1   \n",
       "258  2015         13.600       25000          0             0             0   \n",
       "227  2011          4.430       57000          0             0             0   \n",
       "133  2016          0.950         500          0             1             0   \n",
       "130  2017          0.870       11000          0             1             0   \n",
       "156  2017          0.520       15000          0             1             0   \n",
       "237  2015         13.600       68000          1             0             0   \n",
       "262  2015          5.800       40023          0             0             0   \n",
       "112  2014          2.400        7000          0             1             0   \n",
       "282  2014         14.000       63000          1             0             0   \n",
       "164  2016          0.540       14000          0             1             0   \n",
       "275  2016         13.600       30753          0             0             1   \n",
       "154  2014          0.880        8000          0             1             0   \n",
       "29   2015         10.380       45000          1             0             0   \n",
       "141  2016          0.800       20000          0             1             0   \n",
       "192  2007          0.750       49000          0             1             0   \n",
       "216  2016          4.430       12500          0             0             0   \n",
       "3    2011          4.150        5200          0             0             0   \n",
       "159  2017          0.510        4000          0             1             1   \n",
       "\n",
       "     Owner  \n",
       "99       0  \n",
       "161      0  \n",
       "89       0  \n",
       "30       0  \n",
       "232      0  \n",
       "290      0  \n",
       "35       0  \n",
       "7        0  \n",
       "183      0  \n",
       "13       0  \n",
       "269      0  \n",
       "65       0  \n",
       "178      0  \n",
       "258      0  \n",
       "227      0  \n",
       "133      0  \n",
       "130      0  \n",
       "156      0  \n",
       "237      0  \n",
       "262      0  \n",
       "112      0  \n",
       "282      0  \n",
       "164      0  \n",
       "275      0  \n",
       "154      0  \n",
       "29       0  \n",
       "141      0  \n",
       "192      1  \n",
       "216      0  \n",
       "3        0  \n",
       "159      0  "
      ]
     },
     "execution_count": 79,
     "metadata": {},
     "output_type": "execute_result"
    }
   ],
   "source": [
    "X_test"
   ]
  },
  {
   "cell_type": "code",
   "execution_count": 80,
   "id": "38e58d1f-bd83-4fde-a70f-73f682880c1e",
   "metadata": {},
   "outputs": [
    {
     "data": {
      "text/plain": [
       "99      9.65\n",
       "161     0.45\n",
       "89      4.75\n",
       "30      3.10\n",
       "232    11.45\n",
       "290     4.50\n",
       "35      2.95\n",
       "7       6.50\n",
       "183     0.27\n",
       "13      6.10\n",
       "269     6.70\n",
       "65      4.75\n",
       "178     0.35\n",
       "258     8.40\n",
       "227     2.55\n",
       "133     0.72\n",
       "130     0.75\n",
       "156     0.48\n",
       "237    11.25\n",
       "262     4.00\n",
       "112     1.15\n",
       "282     8.25\n",
       "164     0.45\n",
       "275    10.90\n",
       "154     0.50\n",
       "29      7.45\n",
       "141     0.60\n",
       "192     0.20\n",
       "216     2.90\n",
       "3       2.85\n",
       "159     0.45\n",
       "Name: Selling_Price, dtype: float64"
      ]
     },
     "execution_count": 80,
     "metadata": {},
     "output_type": "execute_result"
    }
   ],
   "source": [
    "Y_test"
   ]
  },
  {
   "cell_type": "code",
   "execution_count": 50,
   "id": "7a79019e-f48c-48e9-8d04-c7fac0ad2bac",
   "metadata": {},
   "outputs": [],
   "source": [
    "#model traing\n",
    "#linear regreesion model loading to a variable called lin_rig_model\n",
    "lin_reg_model = LinearRegression()"
   ]
  },
  {
   "cell_type": "code",
   "execution_count": null,
   "id": "9145d9bf-0869-407e-bee5-6091208f6c50",
   "metadata": {},
   "outputs": [],
   "source": [
    "#fit our data to the linear regression model"
   ]
  },
  {
   "cell_type": "code",
   "execution_count": 51,
   "id": "93e2a5c3-a855-46b2-a311-59dd39944c82",
   "metadata": {},
   "outputs": [
    {
     "data": {
      "text/plain": [
       "LinearRegression()"
      ]
     },
     "execution_count": 51,
     "metadata": {},
     "output_type": "execute_result"
    }
   ],
   "source": [
    "#fit fuction is used to train our model#linear regression is just a line equ y=mx+c \n",
    "lin_reg_model.fit(X_train,Y_train)"
   ]
  },
  {
   "cell_type": "code",
   "execution_count": 52,
   "id": "a6ed25e6-d9cf-4a62-8d45-46b3a5fc3ee1",
   "metadata": {},
   "outputs": [],
   "source": [
    "#evalute our model\n",
    "#prediction on training data by using a function.predict# predict the price value baesd on other data we are giving  \n",
    "training_data_prediction =lin_reg_model.predict(X_train) "
   ]
  },
  {
   "cell_type": "code",
   "execution_count": 81,
   "id": "7047d127-9a18-4359-992d-eae4fb549cac",
   "metadata": {},
   "outputs": [
    {
     "data": {
      "text/plain": [
       "array([ 3.73021336e+00,  5.60557769e+00,  7.79651028e+00, -1.87998528e+00,\n",
       "        6.71732485e+00,  8.14298867e+00,  5.83860743e+00,  6.17807702e+00,\n",
       "        6.16007875e+00,  1.59435570e+01,  2.15178639e+00,  1.11542236e+00,\n",
       "       -4.03566158e-01,  6.69018458e+00,  6.81730001e+00,  1.02823074e+00,\n",
       "        6.74434076e+00,  1.43840178e+01,  2.99972885e+00,  7.95100696e+00,\n",
       "       -8.35827371e-01,  9.01998153e+00,  1.21122729e+00,  2.19835982e+00,\n",
       "       -8.22859063e-01,  7.52654580e-01,  1.00169815e+01, -4.06906872e-01,\n",
       "       -2.39970547e+00,  9.99810395e+00,  6.81635445e+00,  1.09134689e+00,\n",
       "        4.36005070e+00,  9.35912908e-02,  3.49554774e+00,  2.78126418e+00,\n",
       "        1.50310108e+00,  4.66039889e-01,  1.68540670e+00,  1.18623031e+00,\n",
       "        4.32915189e+00,  6.09991944e+00,  9.49841057e-01,  7.57239833e-01,\n",
       "        6.06044794e+00,  3.49340827e+00,  2.40754453e+00,  7.52178300e+00,\n",
       "        4.63218039e+00,  4.44151068e+00,  4.22818099e+00,  2.71097979e+00,\n",
       "        4.46834250e+00,  1.75948281e+00,  2.86122534e-01,  3.95048847e+00,\n",
       "        1.36655084e+00,  4.63150500e+00,  1.44231527e+00,  7.27805289e+00,\n",
       "        7.26394322e+00,  6.54781623e+00,  2.36094207e+00,  2.19195632e+01,\n",
       "        2.16577319e+00,  5.65903467e+00,  2.81121561e+00,  7.49954464e+00,\n",
       "        5.62852385e+00,  9.98192042e+00,  2.06603262e+00,  2.39715724e+00,\n",
       "        1.25461894e+00,  2.48415503e+00,  9.87386064e+00,  2.00009723e+00,\n",
       "       -5.96174924e-01,  5.43130373e+00,  1.14777240e+01,  7.40627935e-02,\n",
       "        1.16911287e+00,  1.59431096e+00,  5.41288483e+00,  1.41364975e+00,\n",
       "        7.74517296e+00,  1.84074211e+01,  2.57930632e+00,  2.07587412e-01,\n",
       "        1.89596397e+00,  9.26619285e+00,  3.98838512e+00,  7.06940463e+00,\n",
       "        1.68505004e+01,  1.02708461e+01,  3.68253268e+00,  1.49972409e+00,\n",
       "        4.31163494e+00, -4.34395723e-01,  1.71198073e+00,  8.27811181e+00,\n",
       "        1.14570644e+00,  7.50185460e+00, -2.04820283e+00,  8.29860671e-01,\n",
       "        7.27052964e+00,  8.01752980e+00,  7.36889110e+00, -3.78843619e+00,\n",
       "        3.75727695e+00,  8.25767071e+00,  3.51367020e+00,  2.53512361e+00,\n",
       "        4.16080008e+00, -3.23491702e+00,  5.18526238e+00,  1.86200542e+00,\n",
       "        3.49406867e+00,  7.72953074e+00, -2.58888366e-02,  1.85445965e+00,\n",
       "        1.61626911e+00,  1.86613865e+00,  3.44271519e+00, -2.60911111e+00,\n",
       "        2.84248698e-01,  6.46837999e+00,  6.81925914e+00,  1.27770682e+00,\n",
       "        1.98097704e+00,  7.77611326e+00,  3.98834359e+00,  7.12451285e-01,\n",
       "        7.91361269e+00,  6.23437252e+00,  1.29303095e+00, -1.96375497e+00,\n",
       "        5.28380366e+00,  6.04429610e+00,  5.15977723e+00,  4.22857827e+00,\n",
       "        9.52747826e-01,  7.35206032e+00,  4.02067824e+00, -1.04667913e+00,\n",
       "        1.09170167e+01,  4.39638274e+00,  2.86984160e+00,  1.91816504e+00,\n",
       "        4.96758029e+00,  4.77821450e+00,  4.24986005e+00,  1.71038563e+01,\n",
       "       -1.06935542e+00,  1.26393734e+00,  5.21116574e+00,  2.12203362e+00,\n",
       "        5.99026427e+00,  3.41070624e+00,  4.80690714e+00,  3.39434249e+00,\n",
       "        5.17639363e-01,  4.44072086e+00,  2.00888667e+01,  3.83904260e+00,\n",
       "        4.52782361e+00,  2.19493306e+00,  2.97801507e+00,  1.63374244e-01,\n",
       "        7.45102096e+00, -9.61785447e-01,  2.07068986e+01,  1.55772760e-01,\n",
       "        7.67126450e+00,  1.96921097e+00,  1.58138092e+00,  8.59354216e+00,\n",
       "        2.03387639e+01,  3.12357420e+00,  4.91724524e+00,  5.12034777e+00,\n",
       "        4.44797076e+00,  6.32517690e+00,  6.14304094e+00,  1.63199948e+00,\n",
       "        4.86541580e-01,  7.15884665e+00,  8.19381235e+00,  2.20908559e+00,\n",
       "       -2.99877309e+00,  4.28784743e+00,  4.26152494e+00,  5.13695581e+00,\n",
       "       -3.39727342e-01,  6.40082386e+00,  4.40350143e+00,  8.19915104e+00,\n",
       "        8.08355349e-01,  1.09129446e+01,  5.67311748e+00, -9.81370968e-01,\n",
       "        6.42130914e+00,  5.08147086e+00,  6.91552670e+00,  4.93779362e+00,\n",
       "        5.77603798e+00,  2.12511905e+00,  2.52819990e+00,  4.89321786e+00,\n",
       "        3.15523099e+00, -1.52287748e+00,  4.17908194e+01,  5.81937081e+00,\n",
       "        5.14264713e+00,  3.92942807e-01,  9.05374467e+00,  6.56521387e+00,\n",
       "        7.18150970e+00,  1.66208008e+00,  7.11374587e+00,  9.07843813e+00,\n",
       "        4.46727937e+00,  3.36316142e+00,  6.35570960e+00,  6.55994577e+00,\n",
       "        1.66006420e+01,  9.38983794e+00,  6.26565026e+00, -1.37604038e-01,\n",
       "        2.55764075e+00,  2.97586269e+00,  5.85815608e+00,  5.06731925e+00,\n",
       "        9.32107270e-01,  8.12878274e+00,  5.75160599e+00,  7.71397666e+00,\n",
       "        2.18350107e+00,  1.67444157e+01,  4.87711576e+00,  1.46386665e+01,\n",
       "        1.05270698e+01,  2.12230658e+00, -5.01586122e-02,  9.93585366e+00,\n",
       "       -3.52807959e+00,  3.49708155e+00,  2.73628808e+00,  3.41048924e+00,\n",
       "        7.39425455e+00,  3.96792187e+00,  1.84074211e+01,  8.15489898e+00,\n",
       "        2.54420014e+00,  8.77086720e-01,  6.36086778e-01,  5.77720292e-01,\n",
       "        4.37093114e-01,  4.94953904e+00,  6.47901168e+00, -3.18527138e-01,\n",
       "        3.10834662e+00,  9.00971216e+00,  8.42896554e+00,  8.34603228e-02,\n",
       "        5.65618275e+00,  4.71767684e+00,  5.02756294e+00,  8.94568101e+00,\n",
       "        8.59354216e+00,  3.94955908e-01])"
      ]
     },
     "execution_count": 81,
     "metadata": {},
     "output_type": "execute_result"
    }
   ],
   "source": [
    "lin_reg_model.predict(X_train) "
   ]
  },
  {
   "cell_type": "code",
   "execution_count": 82,
   "id": "28f60bc5-9d00-4f02-a494-7e3e02c53565",
   "metadata": {},
   "outputs": [
    {
     "data": {
      "text/plain": [
       "99      9.65\n",
       "161     0.45\n",
       "89      4.75\n",
       "30      3.10\n",
       "232    11.45\n",
       "290     4.50\n",
       "35      2.95\n",
       "7       6.50\n",
       "183     0.27\n",
       "13      6.10\n",
       "269     6.70\n",
       "65      4.75\n",
       "178     0.35\n",
       "258     8.40\n",
       "227     2.55\n",
       "133     0.72\n",
       "130     0.75\n",
       "156     0.48\n",
       "237    11.25\n",
       "262     4.00\n",
       "112     1.15\n",
       "282     8.25\n",
       "164     0.45\n",
       "275    10.90\n",
       "154     0.50\n",
       "29      7.45\n",
       "141     0.60\n",
       "192     0.20\n",
       "216     2.90\n",
       "3       2.85\n",
       "159     0.45\n",
       "Name: Selling_Price, dtype: float64"
      ]
     },
     "execution_count": 82,
     "metadata": {},
     "output_type": "execute_result"
    }
   ],
   "source": [
    "Y_test\n"
   ]
  },
  {
   "cell_type": "code",
   "execution_count": null,
   "id": "ed5fd8db-18f0-4c68-b9ea-d1024041aec3",
   "metadata": {},
   "outputs": [],
   "source": []
  },
  {
   "cell_type": "code",
   "execution_count": 54,
   "id": "e1e9e40d-48a4-49c8-a710-f0bc054191c8",
   "metadata": {},
   "outputs": [
    {
     "name": "stdout",
     "output_type": "stream",
     "text": [
      "R squared Error: 0.8796483009370206\n"
     ]
    }
   ],
   "source": [
    "# compare value predicted our model by original value r squaed error\n",
    "error_score=metrics.r2_score(Y_train,training_data_prediction)\n",
    "print('R squared Error:',error_score)"
   ]
  },
  {
   "cell_type": "code",
   "execution_count": 57,
   "id": "1c24e9fe-196e-4150-bd0c-c74829478c52",
   "metadata": {},
   "outputs": [
    {
     "data": {
      "image/png": "[encoded data removed]",
      "text/plain": [
       "<Figure size 432x288 with 1 Axes>"
      ]
     },
     "metadata": {
      "needs_background": "light"
     },
     "output_type": "display_data"
    }
   ],
   "source": [
    "#visualize the actual prices or predicted price\n",
    "plt.scatter(Y_train,training_data_prediction)\n",
    "plt.xlabel(\"actual prices\")\n",
    "plt.ylabel(\"predicted price\")\n",
    "plt.title(\"actual prices vs predicted prices\")\n",
    "plt.show()# values are predict by our model is veery close as sold price#estamiationg model performance by plotting the original values in cases of scatter plot "
   ]
  },
  {
   "cell_type": "code",
   "execution_count": 60,
   "id": "8d6a9f10-9754-4aa3-9976-5773ab9b10fc",
   "metadata": {},
   "outputs": [],
   "source": [
    "#prediction on test data by using a function.predict\n",
    "test_data_prediction =lin_reg_model.predict(X_test) "
   ]
  },
  {
   "cell_type": "code",
   "execution_count": 61,
   "id": "4191b957-d625-4618-9249-e0369cb7b9ff",
   "metadata": {},
   "outputs": [
    {
     "name": "stdout",
     "output_type": "stream",
     "text": [
      "R squared Error: 0.8365861023208354\n"
     ]
    }
   ],
   "source": [
    "#compare value predicted our model by original value r squaed error\n",
    "error_score=metrics.r2_score(Y_test,test_data_prediction)\n",
    "print('R squared Error:',error_score)"
   ]
  },
  {
   "cell_type": "code",
   "execution_count": 62,
   "id": "bad70ac8-097a-486d-b736-51511828456f",
   "metadata": {},
   "outputs": [
    {
     "data": {
      "image/png": "[encoded data removed]",
      "text/plain": [
       "<Figure size 432x288 with 1 Axes>"
      ]
     },
     "metadata": {
      "needs_background": "light"
     },
     "output_type": "display_data"
    }
   ],
   "source": [
    "plt.scatter(Y_test,test_data_prediction)\n",
    "plt.xlabel(\"actual prices\")\n",
    "plt.ylabel(\"predicted price\")\n",
    "plt.title(\"actual prices vs predicted prices\")\n",
    "plt.show()"
   ]
  },
  {
   "cell_type": "code",
   "execution_count": null,
   "id": "99683ea5-5052-420e-b89d-074a1228bfde",
   "metadata": {},
   "outputs": [],
   "source": [
    "#linear regresion perform well in those caese were one value increase other also increase\n",
    "#when there is multe features and multiple column then we will use lasso and other regression"
   ]
  },
  {
   "cell_type": "code",
   "execution_count": 64,
   "id": "d3cf12b7-7da9-4e51-a684-ee552d8a8e82",
   "metadata": {},
   "outputs": [],
   "source": [
    "#model traing\n",
    "lasso_reg_model = Lasso()"
   ]
  },
  {
   "cell_type": "code",
   "execution_count": 65,
   "id": "9613752d-c7c9-4aed-9228-10ef9a2adbf0",
   "metadata": {},
   "outputs": [],
   "source": [
    "#fit our data to the linear regression model"
   ]
  },
  {
   "cell_type": "code",
   "execution_count": 66,
   "id": "9da56ff2-3abd-46cb-a3f1-d917957bd26d",
   "metadata": {},
   "outputs": [
    {
     "data": {
      "text/plain": [
       "Lasso()"
      ]
     },
     "execution_count": 66,
     "metadata": {},
     "output_type": "execute_result"
    }
   ],
   "source": [
    "\n",
    "lasso_reg_model.fit(X_train,Y_train"
   ]
  },
  {
   "cell_type": "code",
   "execution_count": 67,
   "id": "797dfe3b-ab2e-4cce-b0cb-b59def592a7e",
   "metadata": {},
   "outputs": [],
   "source": [
    "#evalute our model\n",
    "#prediction on training data by using a function.predict# predict the price value baesd on other data we are giving  \n",
    "training_data_prediction =lasso_reg_model.predict(X_train) "
   ]
  },
  {
   "cell_type": "code",
   "execution_count": 68,
   "id": "e0778296-96b3-4ad5-a9b3-840e41504d8d",
   "metadata": {},
   "outputs": [
    {
     "name": "stdout",
     "output_type": "stream",
     "text": [
      "R squared Error: 0.8424480718240743\n"
     ]
    }
   ],
   "source": [
    "# compare value predicted our model by original value r squaed error\n",
    "error_score=metrics.r2_score(Y_train,training_data_prediction)\n",
    "print('R squared Error:',error_score)"
   ]
  },
  {
   "cell_type": "code",
   "execution_count": 69,
   "id": "1e1883c5-9014-4436-86d3-488bb0ccf8ef",
   "metadata": {},
   "outputs": [
    {
     "data": {
      "image/png": "[encoded data removed]",
      "text/plain": [
       "<Figure size 432x288 with 1 Axes>"
      ]
     },
     "metadata": {
      "needs_background": "light"
     },
     "output_type": "display_data"
    }
   ],
   "source": [
    "#visualize the actual prices or predicted price\n",
    "plt.scatter(Y_train,training_data_prediction)\n",
    "plt.xlabel(\"actual prices\")\n",
    "plt.ylabel(\"predicted price\")\n",
    "plt.title(\"actual prices vs predicted prices\")\n",
    "plt.show()# values are predict by our model is veery close as sold price#estamiationg model performance by plotting the original values in cases of scatter plot "
   ]
  },
  {
   "cell_type": "code",
   "execution_count": null,
   "id": "fc708b6b-50d9-450a-ae35-4fa8905092a0",
   "metadata": {},
   "outputs": [],
   "source": [
    "#in lasso regreesion value is much more closer thenlinear regression so lasso is much more good phir for this particular project"
   ]
  },
  {
   "cell_type": "code",
   "execution_count": 73,
   "id": "47dae55c-50fc-4743-8c47-e6b577f39288",
   "metadata": {},
   "outputs": [],
   "source": [
    "#prediction on test data by using a function.predict\n",
    "test_data_prediction =lasso_reg_model.predict(X_test) "
   ]
  },
  {
   "cell_type": "code",
   "execution_count": 74,
   "id": "b10b2ae6-ad56-4e6a-9810-60c1fc76f0b9",
   "metadata": {},
   "outputs": [
    {
     "name": "stdout",
     "output_type": "stream",
     "text": [
      "R squared Error: 0.8709763132343395\n"
     ]
    }
   ],
   "source": [
    "#compare value predicted our model by original value r squaed error\n",
    "error_score=metrics.r2_score(Y_test,test_data_prediction)\n",
    "print('R squared Error:',error_score)"
   ]
  },
  {
   "cell_type": "code",
   "execution_count": 76,
   "id": "30b1720a-1cdc-48ca-a2e7-19391eb76ffd",
   "metadata": {},
   "outputs": [
    {
     "data": {
      "image/png": "[encoded data removed]",
      "text/plain": [
       "<Figure size 432x288 with 1 Axes>"
      ]
     },
     "metadata": {
      "needs_background": "light"
     },
     "output_type": "display_data"
    }
   ],
   "source": [
    "plt.scatter(Y_test,test_data_prediction)\n",
    "plt.xlabel(\"actual prices\")\n",
    "plt.ylabel(\"predicted price\")\n",
    "plt.title(\"actual prices vs predicted prices\")\n",
    "plt.show()"
   ]
  },
  {
   "cell_type": "code",
   "execution_count": null,
   "id": "34c9522d-a3e3-4a71-a4e1-984eb5955da3",
   "metadata": {},
   "outputs": [],
   "source": [
    "# in this case distance is not much more higher so lasso in testing is also god fit for this project"
   ]
  },
  {
   "cell_type": "code",
   "execution_count": null,
   "id": "6dae6d23-d00c-4add-816d-a9f03fae291f",
   "metadata": {},
   "outputs": [],
   "source": []
  }
 ],
 "metadata": {
  "kernelspec": {
   "display_name": "Python 3",
   "language": "python",
   "name": "python3"
  },
  "language_info": {
   "codemirror_mode": {
    "name": "ipython",
    "version": 3
   },
   "file_extension": ".py",
   "mimetype": "text/x-python",
   "name": "python",
   "nbconvert_exporter": "python",
   "pygments_lexer": "ipython3",
   "version": "3.8.8"
  },
  "toc-autonumbering": false,
  "toc-showcode": false,
  "toc-showtags": false
 },
 "nbformat": 4,
 "nbformat_minor": 5
}
